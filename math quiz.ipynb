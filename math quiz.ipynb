{
 "cells": [
  {
   "cell_type": "code",
   "execution_count": 3,
   "id": "088189f5",
   "metadata": {},
   "outputs": [
    {
     "name": "stdout",
     "output_type": "stream",
     "text": [
      "what is your name ?5\n",
      "Alright, name,welcome to your maths quiz\n",
      "your question is  2 - 3\n",
      "what is your answer 4\n",
      "incorrect,the correct answer is 23\n"
     ]
    }
   ],
   "source": [
    "import random\n",
    "name=input(\"what is your name ?\")\n",
    "print(\"Alright, name,welcome to your maths quiz\")\n",
    "\n",
    "ops=(\"+\",\"-\",\"*\")\n",
    "rand=random.randint(1,10)\n",
    "rand2=random.randint(1,10)\n",
    "operation=random.choice(ops)\n",
    "maths=eval(str(rand)+str(rand2))\n",
    "print(\"your question is \",rand,operation,rand2)\n",
    "#question=question+1\n",
    "d=int(input(\"what is your answer \"))  \n",
    "if d==maths:\n",
    "    print(\"correct answer is\",maths)\n",
    "else:\n",
    "        print(\"incorrect,the correct answer is\",maths)"
   ]
  },
  {
   "cell_type": "code",
   "execution_count": null,
   "id": "0354b544",
   "metadata": {},
   "outputs": [],
   "source": [
    "import random "
   ]
  },
  {
   "cell_type": "code",
   "execution_count": 1,
   "id": "00a752e5",
   "metadata": {},
   "outputs": [
    {
     "name": "stdout",
     "output_type": "stream",
     "text": [
      "vechile name: volvo bus speed speed: 220 mileage: 14\n"
     ]
    }
   ],
   "source": [
    "class Vechile:\n",
    "    def __init__(self,name,speed,mileage):\n",
    "        self.name=name\n",
    "        self.speed=speed\n",
    "        self.mileage=mileage\n",
    "class Bus(Vechile):\n",
    "    pass\n",
    "school_bus=Bus(\"volvo bus speed\",220,14)\n",
    "print(\"vechile name:\",school_bus.name,\"speed:\",school_bus.speed,\"mileage:\",school_bus.mileage)\n",
    "       "
   ]
  },
  {
   "cell_type": "code",
   "execution_count": null,
   "id": "249737e2",
   "metadata": {},
   "outputs": [],
   "source": [
    "class Vechile:\n",
    "    def __init__(self,name,speed,mileage):\n",
    "        self.name=name\n",
    "        self.speed=sppe\n",
    "        self.mileage=mile\n",
    "class Bus(Vechile):\n",
    "     pass\n",
    "    \n",
    "school_bus=Bus('volvo bus speed',220,14)\n",
    "print(school)"
   ]
  },
  {
   "cell_type": "code",
   "execution_count": 3,
   "id": "480a3f4e",
   "metadata": {},
   "outputs": [
    {
     "name": "stdout",
     "output_type": "stream",
     "text": [
      "ail get\n"
     ]
    }
   ],
   "source": [
    "class Complex:\n",
    "    def __init__(self,i,j):\n",
    "        self.i=i\n",
    "        self.j=j\n",
    "    def getdata(self):\n",
    "        print(self.i,self.j)\n",
    "c1=Complex('ail','get')\n",
    "c1.getdata()"
   ]
  },
  {
   "cell_type": "code",
   "execution_count": 5,
   "id": "8a21b0f7",
   "metadata": {},
   "outputs": [
    {
     "name": "stdout",
     "output_type": "stream",
     "text": [
      "akil 123 sgd\n"
     ]
    }
   ],
   "source": [
    "class vechile:\n",
    "    def __init__(self,name,speed,mileage):\n",
    "        self.name=name\n",
    "        self.sped=speed\n",
    "        self.mileage=mileage\n",
    "    def getdata(self):\n",
    "        print(self.name,self.sped,self.mileage)\n",
    "c1=vechile('akil',123,'sgd')\n",
    "c1.getdata()"
   ]
  },
  {
   "cell_type": "code",
   "execution_count": null,
   "id": "c8c04163",
   "metadata": {},
   "outputs": [],
   "source": [
    "class Parent:\n",
    "    \n",
    "    def __init__(self):\n",
    "        print('calleing parent constructor')\n",
    "    def parentMethod(self):\n",
    "        print('calling parent method')\n",
    "    def setattrs"
   ]
  }
 ],
 "metadata": {
  "kernelspec": {
   "display_name": "Python 3 (ipykernel)",
   "language": "python",
   "name": "python3"
  },
  "language_info": {
   "codemirror_mode": {
    "name": "ipython",
    "version": 3
   },
   "file_extension": ".py",
   "mimetype": "text/x-python",
   "name": "python",
   "nbconvert_exporter": "python",
   "pygments_lexer": "ipython3",
   "version": "3.9.12"
  }
 },
 "nbformat": 4,
 "nbformat_minor": 5
}
